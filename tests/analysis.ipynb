{
 "cells": [
  {
   "cell_type": "markdown",
   "id": "321a78a1",
   "metadata": {},
   "source": [
    "# On Pyrex"
   ]
  },
  {
   "cell_type": "markdown",
   "id": "7cd529a9",
   "metadata": {},
   "source": [
    "## Making the fit\n",
    "\n",
    "To make the eccentricity fit, Pyrex uses the following equation to compute the eccentricity contribution to both the phase and amplitude\n",
    "$$e_X = \\frac{X_{\\text{NR}}(X_c)-X_e}{2X_c},$$\n",
    "with $X$ being both $\\omega$, the instantaneous frequency and $\\mathcal{A}$, the amplitude. $X_c$ means that these quantities were taken from a circular simulation and $X_\\text{NR}$ means that they were taken from an eccentric simulation.\n",
    "\n",
    "The resulting $e_X$ equations are then fit according to the following relation\n",
    "$$e_X = Ae^{BX^\\kappa_c}\\sin(fX^\\kappa_c + \\varphi),$$\n",
    "with $A, B, f$ and $\\varphi$ standard damped sinusoidal parameters. It turns out that $A$ and $B$ are highly correlated with the eccentricity, $f^2$ with the mass ratio, and $\\varphi$ an extra degree of freedom which behaviour is not well understood. $\\kappa$ takes different values for the instantaneouos frequency and amplitude, namely $\\kappa = -59/24$ for the frequency and $\\kappa=-83/24$ for the amplitude for a circular BBH with a total mass $M=50M_\\odot$."
   ]
  },
  {
   "cell_type": "markdown",
   "id": "fe559678",
   "metadata": {},
   "source": [
    "### How it works\n",
    "\n",
    "In practice, $X_c$ are the components of a simulation with the same mass ratio and zero eccentricity. In other words, for every mass ratio in the used eccentric simulations there needs to be a circular simulation with the same mass ratio. $X_\\text{NR}$ are then the components of an eccentric binary simulation. However, this method only works if the only major differences in these simulations is the eccentricity and mass ratio. Furthermore, since Pyrex does not compute the mass ratio and eccentricity, these values have been taken from the literature at a reference frequency of $x=0.075$. The mean anomaly is *not* used. Since then, many of these simulations have been superseded, meaning that some of these parameters from the literature might be obsolete, but more significantly, there are better simulations."
   ]
  },
  {
   "cell_type": "code",
   "execution_count": 1,
   "id": "5791e645",
   "metadata": {},
   "outputs": [
    {
     "name": "stderr",
     "output_type": "stream",
     "text": [
      "/home/amin/Projects/School/Masters/25_26-Thesis/pyrex/.venv/lib/python3.12/site-packages/pycbc/types/array.py:36: UserWarning: Wswiglal-redir-stdio:\n",
      "\n",
      "SWIGLAL standard output/error redirection is enabled in IPython.\n",
      "This may lead to performance penalties. To disable locally, use:\n",
      "\n",
      "with lal.no_swig_redirect_standard_output_error():\n",
      "    ...\n",
      "\n",
      "To disable globally, use:\n",
      "\n",
      "lal.swig_redirect_standard_output_error(False)\n",
      "\n",
      "Note however that this will likely lead to error messages from\n",
      "LAL functions being either misdirected or lost when called from\n",
      "Jupyter notebooks.\n",
      "\n",
      "To suppress this warning, use:\n",
      "\n",
      "import warnings\n",
      "warnings.filterwarnings(\"ignore\", \"Wswiglal-redir-stdio\")\n",
      "import lal\n",
      "\n",
      "  import lal as _lal\n",
      "/home/amin/Projects/School/Masters/25_26-Thesis/pyrex/.venv/lib/python3.12/site-packages/pykerr/qnm.py:2: UserWarning: pkg_resources is deprecated as an API. See https://setuptools.pypa.io/en/latest/pkg_resources.html. The pkg_resources package is slated for removal as early as 2025-11-30. Refrain from using this package or pin to Setuptools<81.\n",
      "  import pkg_resources\n"
     ]
    }
   ],
   "source": [
    "from pyrex.main import glassware"
   ]
  },
  {
   "cell_type": "code",
   "execution_count": 2,
   "id": "9c935f8a",
   "metadata": {},
   "outputs": [
    {
     "name": "stdout",
     "output_type": "stream",
     "text": [
      "Loading SXS simulations using latest tag 'v3.0.0', published at 2025-05-14T18:17:30Z.\n"
     ]
    },
    {
     "name": "stderr",
     "output_type": "stream",
     "text": [
      "/home/amin/Projects/School/Masters/25_26-Thesis/pyrex/.venv/lib/python3.12/site-packages/sxs/simulations/simulation.py:203: UserWarning: \n",
      "Simulation 'SXS:BBH:0180' is deprecated, but you explicitly\n",
      "requested version 'v2.0', so it is being used.\n",
      "Pass `ignore_deprecation=True` to quiet this warning.\n",
      "\n",
      "  warn(message)\n",
      "/home/amin/Projects/School/Masters/25_26-Thesis/pyrex/.venv/lib/python3.12/site-packages/sxs/simulations/simulation.py:203: UserWarning: \n",
      "Simulation 'SXS:BBH:1363' is deprecated, but you explicitly\n",
      "requested version 'v2.0', so it is being used.\n",
      "Pass `ignore_deprecation=True` to quiet this warning.\n",
      "\n",
      "  warn(message)\n",
      "/home/amin/Projects/School/Masters/25_26-Thesis/pyrex/.venv/lib/python3.12/site-packages/sxs/simulations/simulation.py:203: UserWarning: \n",
      "Simulation 'SXS:BBH:0184' is deprecated, but you explicitly\n",
      "requested version 'v2.0', so it is being used.\n",
      "Pass `ignore_deprecation=True` to quiet this warning.\n",
      "\n",
      "  warn(message)\n",
      "/home/amin/Projects/School/Masters/25_26-Thesis/pyrex/.venv/lib/python3.12/site-packages/sxs/simulations/simulation.py:203: UserWarning: \n",
      "Simulation 'SXS:BBH:0183' is deprecated, but you explicitly\n",
      "requested version 'v2.0', so it is being used.\n",
      "Pass `ignore_deprecation=True` to quiet this warning.\n",
      "\n",
      "  warn(message)\n",
      "/home/amin/Projects/School/Masters/25_26-Thesis/pyrex/.venv/lib/python3.12/site-packages/scipy/optimize/_minpack_py.py:498: RuntimeWarning: overflow encountered in matmul\n",
      "  cov_x = invR @ invR.T\n",
      "/home/amin/Projects/School/Masters/25_26-Thesis/pyrex/.venv/lib/python3.12/site-packages/scipy/optimize/_minpack_py.py:1062: RuntimeWarning: invalid value encountered in multiply\n",
      "  pcov = pcov * s_sq\n",
      "/home/amin/Projects/School/Masters/25_26-Thesis/pyrex/src/pyrex/tools.py:16: RuntimeWarning: overflow encountered in exp\n",
      "  amplitude * np.exp(B * xdata) * np.sin(xdata * freq / (2 * np.pi) + phase)\n",
      "/home/amin/Projects/School/Masters/25_26-Thesis/pyrex/src/pyrex/tools.py:16: RuntimeWarning: overflow encountered in multiply\n",
      "  amplitude * np.exp(B * xdata) * np.sin(xdata * freq / (2 * np.pi) + phase)\n"
     ]
    }
   ],
   "source": [
    "sims = [\"SXS:BBH:0180v2.0\", \"SXS:BBH:1355\", \"SXS:BBH:1357\", \"SXS:BBH:1362\", \"SXS:BBH:1363v2.0\", \"SXS:BBH:0184v2.0\", \"SXS:BBH:1364\", \"SXS:BBH:1368\", \"SXS:BBH:1369\", \"SXS:BBH:0183v2.0\", \"SXS:BBH:1373\", \"SXS:BBH:1374\"]\n",
    "q = [1.0, 1.0, 1.0, 1.0, 1.0, 2.0, 2.0, 2.0, 2.0, 3.0, 3.0, 3.0]\n",
    "e_ref = [0.0, 0.053, 0.097, 0.189, 0.192, 0.0, 0.044, 0.097, 0.185, 0.0, 0.093, 0.18]\n",
    "\n",
    "training = glassware(q=q, chi=0, names=sims, e_ref=e_ref, outfname=\"/home/amin/Projects/School/Masters/25_26-Thesis/pyrex/data/pyrexdata.pkl\")"
   ]
  },
  {
   "cell_type": "markdown",
   "id": "d383e9a8",
   "metadata": {},
   "source": [
    "## Zero eccentricity case\n",
    "\n",
    "The first test case is the limit where $e = 0$. This can be compared against any model, but should be checked for range in masses and mass ratios.\n",
    "\n",
    "BIG ISSUE IS THAT ORIGINAL INTERPOLATED AND I DONOT INTERPOLATE THE ORIGINAL WAVEFORM, THIS CAUSES INFS AND NANS BUT IF HANDLED CORRECTLY IT KIND OF WORKS WITH OTHER DRAWBACKS."
   ]
  },
  {
   "cell_type": "markdown",
   "id": "5d9616c9",
   "metadata": {},
   "source": [
    "## Inspecting individual waveforms"
   ]
  },
  {
   "cell_type": "markdown",
   "id": "0f453183",
   "metadata": {},
   "source": [
    "### Setting expectations"
   ]
  },
  {
   "cell_type": "markdown",
   "id": "802b283d",
   "metadata": {},
   "source": [
    "## Mismatch heatmaps"
   ]
  },
  {
   "cell_type": "code",
   "execution_count": 3,
   "id": "747516e0",
   "metadata": {},
   "outputs": [],
   "source": [
    "# Match self first here as a test"
   ]
  },
  {
   "cell_type": "markdown",
   "id": "266256ff",
   "metadata": {},
   "source": [
    "### Setting expectations"
   ]
  },
  {
   "cell_type": "markdown",
   "id": "b7b53222",
   "metadata": {},
   "source": [
    "## Conclusions"
   ]
  }
 ],
 "metadata": {
  "kernelspec": {
   "display_name": "pyrex",
   "language": "python",
   "name": "python3"
  },
  "language_info": {
   "codemirror_mode": {
    "name": "ipython",
    "version": 3
   },
   "file_extension": ".py",
   "mimetype": "text/x-python",
   "name": "python",
   "nbconvert_exporter": "python",
   "pygments_lexer": "ipython3",
   "version": "3.12.11"
  }
 },
 "nbformat": 4,
 "nbformat_minor": 5
}
