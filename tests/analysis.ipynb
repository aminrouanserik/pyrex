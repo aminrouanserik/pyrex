{
 "cells": [
  {
   "cell_type": "markdown",
   "id": "321a78a1",
   "metadata": {},
   "source": [
    "# On Pyrex"
   ]
  },
  {
   "cell_type": "markdown",
   "id": "7cd529a9",
   "metadata": {},
   "source": [
    "## Making the fit\n",
    "\n",
    "To make the eccentricity fit, Pyrex uses the following equation to compute the eccentricity contribution to both the phase and amplitude\n",
    "$$e_X = \\frac{X_{\\text{NR}}(X_c)-X_e}{2X_c},$$\n",
    "with $X$ being both $\\omega$, the instantaneous frequency and $\\mathcal{A}$, the amplitude. $X_c$ means that these quantities were taken from a circular simulation and $X_\\text{NR}$ means that they were taken from an eccentric simulation.\n",
    "\n",
    "The resulting $e_X$ equations are then fit according to the following relation\n",
    "$$e_X = Ae^{BX^\\kappa_c}\\sin(fX^\\kappa_c + \\varphi),$$\n",
    "with $A, B, f$ and $\\varphi$ standard damped sinusoidal parameters. It turns out that $A$ and $B$ are highly correlated with the eccentricity, $f^2$ with the mass ratio, and $\\varphi$ an extra degree of freedom which behaviour is not well understood. $\\kappa$ takes different values for the instantaneouos frequency and amplitude, namely $\\kappa = -59/24$ for the frequency and $\\kappa=-83/24$ for the amplitude for a circular BBH with a total mass $M=50M_\\odot$."
   ]
  },
  {
   "cell_type": "markdown",
   "id": "fe559678",
   "metadata": {},
   "source": [
    "### How it works\n",
    "\n",
    "In practice, $X_c$ are the components of a simulation with the same mass ratio and zero eccentricity. In other words, for every mass ratio in the used eccentric simulations there needs to be a circular simulation with the same mass ratio. $X_\\text{NR}$ are then the components of an eccentric binary simulation. However, this method only works if the only major differences in these simulations is the eccentricity and mass ratio. Furthermore, since Pyrex does not compute the mass ratio and eccentricity, these values have been taken from the literature at a reference frequency of $x=0.075$. The mean anomaly is *not* used. Since then, many of these simulations have been superseded, meaning that some of these parameters from the literature might be obsolete, but more significantly, there are better simulations."
   ]
  },
  {
   "cell_type": "code",
   "execution_count": 1,
   "id": "5791e645",
   "metadata": {},
   "outputs": [
    {
     "name": "stderr",
     "output_type": "stream",
     "text": [
      "/home/amin/Projects/School/Masters/25_26-Thesis/pyrex/.venv/lib/python3.12/site-packages/pycbc/types/array.py:36: UserWarning: Wswiglal-redir-stdio:\n",
      "\n",
      "SWIGLAL standard output/error redirection is enabled in IPython.\n",
      "This may lead to performance penalties. To disable locally, use:\n",
      "\n",
      "with lal.no_swig_redirect_standard_output_error():\n",
      "    ...\n",
      "\n",
      "To disable globally, use:\n",
      "\n",
      "lal.swig_redirect_standard_output_error(False)\n",
      "\n",
      "Note however that this will likely lead to error messages from\n",
      "LAL functions being either misdirected or lost when called from\n",
      "Jupyter notebooks.\n",
      "\n",
      "To suppress this warning, use:\n",
      "\n",
      "import warnings\n",
      "warnings.filterwarnings(\"ignore\", \"Wswiglal-redir-stdio\")\n",
      "import lal\n",
      "\n",
      "  import lal as _lal\n",
      "/home/amin/Projects/School/Masters/25_26-Thesis/pyrex/.venv/lib/python3.12/site-packages/pykerr/qnm.py:2: UserWarning: pkg_resources is deprecated as an API. See https://setuptools.pypa.io/en/latest/pkg_resources.html. The pkg_resources package is slated for removal as early as 2025-11-30. Refrain from using this package or pin to Setuptools<81.\n",
      "  import pkg_resources\n"
     ]
    }
   ],
   "source": [
    "from pyrex.main import glassware\n",
    "import numpy as np\n",
    "from pyrex.core import main\n",
    "from qcextender.waveform import Waveform\n",
    "import matplotlib.pyplot as plt\n",
    "import matplotlib.colors as colors"
   ]
  },
  {
   "cell_type": "code",
   "execution_count": 2,
   "id": "9c935f8a",
   "metadata": {},
   "outputs": [
    {
     "name": "stdout",
     "output_type": "stream",
     "text": [
      "Loading SXS simulations using latest tag 'v3.0.0', published at 2025-05-14T18:17:30Z.\n"
     ]
    },
    {
     "name": "stderr",
     "output_type": "stream",
     "text": [
      "/home/amin/Projects/School/Masters/25_26-Thesis/pyrex/.venv/lib/python3.12/site-packages/sxs/simulations/simulation.py:203: UserWarning: \n",
      "Simulation 'SXS:BBH:0180' is deprecated, but you explicitly\n",
      "requested version 'v2.0', so it is being used.\n",
      "Pass `ignore_deprecation=True` to quiet this warning.\n",
      "\n",
      "  warn(message)\n",
      "/home/amin/Projects/School/Masters/25_26-Thesis/pyrex/.venv/lib/python3.12/site-packages/sxs/simulations/simulation.py:203: UserWarning: \n",
      "Simulation 'SXS:BBH:1363' is deprecated, but you explicitly\n",
      "requested version 'v2.0', so it is being used.\n",
      "Pass `ignore_deprecation=True` to quiet this warning.\n",
      "\n",
      "  warn(message)\n",
      "/home/amin/Projects/School/Masters/25_26-Thesis/pyrex/.venv/lib/python3.12/site-packages/sxs/simulations/simulation.py:203: UserWarning: \n",
      "Simulation 'SXS:BBH:0184' is deprecated, but you explicitly\n",
      "requested version 'v2.0', so it is being used.\n",
      "Pass `ignore_deprecation=True` to quiet this warning.\n",
      "\n",
      "  warn(message)\n",
      "/home/amin/Projects/School/Masters/25_26-Thesis/pyrex/.venv/lib/python3.12/site-packages/sxs/simulations/simulation.py:203: UserWarning: \n",
      "Simulation 'SXS:BBH:0183' is deprecated, but you explicitly\n",
      "requested version 'v2.0', so it is being used.\n",
      "Pass `ignore_deprecation=True` to quiet this warning.\n",
      "\n",
      "  warn(message)\n",
      "/home/amin/Projects/School/Masters/25_26-Thesis/pyrex/.venv/lib/python3.12/site-packages/scipy/optimize/_minpack_py.py:498: RuntimeWarning: overflow encountered in matmul\n",
      "  cov_x = invR @ invR.T\n",
      "/home/amin/Projects/School/Masters/25_26-Thesis/pyrex/.venv/lib/python3.12/site-packages/scipy/optimize/_minpack_py.py:1062: RuntimeWarning: invalid value encountered in multiply\n",
      "  pcov = pcov * s_sq\n",
      "/home/amin/Projects/School/Masters/25_26-Thesis/pyrex/src/pyrex/tools.py:16: RuntimeWarning: overflow encountered in exp\n",
      "  amplitude * np.exp(B * xdata) * np.sin(xdata * freq / (2 * np.pi) + phase)\n",
      "/home/amin/Projects/School/Masters/25_26-Thesis/pyrex/src/pyrex/tools.py:16: RuntimeWarning: overflow encountered in multiply\n",
      "  amplitude * np.exp(B * xdata) * np.sin(xdata * freq / (2 * np.pi) + phase)\n"
     ]
    }
   ],
   "source": [
    "sims = [\"SXS:BBH:0180v2.0\", \"SXS:BBH:1355\", \"SXS:BBH:1357\", \"SXS:BBH:1362\", \"SXS:BBH:1363v2.0\", \"SXS:BBH:0184v2.0\", \"SXS:BBH:1364\", \"SXS:BBH:1368\", \"SXS:BBH:1369\", \"SXS:BBH:0183v2.0\", \"SXS:BBH:1373\", \"SXS:BBH:1374\"]\n",
    "q = [1.0, 1.0, 1.0, 1.0, 1.0, 2.0, 2.0, 2.0, 2.0, 3.0, 3.0, 3.0]\n",
    "e_ref = [0.0, 0.053, 0.097, 0.189, 0.192, 0.0, 0.044, 0.097, 0.185, 0.0, 0.093, 0.18]\n",
    "\n",
    "training = glassware(q=q, chi=0, names=sims, e_ref=e_ref, outfname=\"/home/amin/Projects/School/Masters/25_26-Thesis/pyrex/data/pyrexdata.pkl\")"
   ]
  },
  {
   "cell_type": "markdown",
   "id": "d383e9a8",
   "metadata": {},
   "source": [
    "## Zero eccentricity case\n",
    "\n",
    "The first test case is the limit where $e = 0$. This can be compared against any model, but should be checked for range in masses and mass ratios. Here I used IMRPhenomD because of the shorter wall-clock time. The expectation in the $e=0$ case is that the mismatches are very low, down to numerical errors only, across both the mass ratio and total mass ranges."
   ]
  },
  {
   "cell_type": "code",
   "execution_count": 2,
   "id": "16dc242d",
   "metadata": {},
   "outputs": [],
   "source": [
    "spin1=(0,0,0)\n",
    "spin2=(0,0,0)\n",
    "distance, inclination, coa_phase = 10, 0, 0\n",
    "f_lower=20\n",
    "\n",
    "mass_ratio = np.linspace(1, 5, 20)\n",
    "total_masses = np.linspace(20, 200, 20)\n",
    "\n",
    "mm_no_ecc_phend  = np.zeros((len(mass_ratio), len(total_masses)))\n",
    "\n",
    "for i, q in enumerate(mass_ratio):\n",
    "    for j, M in enumerate(total_masses):\n",
    "        mass1 = q * M / (q + 1)\n",
    "        mass2 = M / (q + 1)\n",
    "        kwargs = {'mass1': mass1, 'mass2': mass2, 'eccentricity': 0,\n",
    "                  'spin1': spin1, 'spin2': spin2,\n",
    "                  'inclination': inclination, 'distance': distance,\n",
    "                  'coa_phase': coa_phase, \"delta_t\": 1.0 / 4096,\n",
    "                  \"f_ref\": 20, \"f_lower\": f_lower}\n",
    "\n",
    "        phen_ecc = main(\"IMRPhenomD\", [(2, 2)], **kwargs)\n",
    "        phen_circ = Waveform.from_model(\"IMRPhenomD\", [(2, 2)], **kwargs)\n",
    "\n",
    "        mm_no_ecc_phend[i, j] = 1 - phen_ecc.match(phen_circ, f_lower)"
   ]
  },
  {
   "cell_type": "code",
   "execution_count": 6,
   "id": "9952c099",
   "metadata": {},
   "outputs": [
    {
     "data": {
      "image/png": "[encoded data removed]",
      "text/plain": [
       "<Figure size 800x600 with 2 Axes>"
      ]
     },
     "metadata": {},
     "output_type": "display_data"
    }
   ],
   "source": [
    "plt.figure(figsize=(8, 6))\n",
    "plt.imshow(mm_no_ecc_phend, origin='lower', aspect='auto',\n",
    "           extent=[total_masses.min(), total_masses.max(),\n",
    "                   mass_ratio.min(), mass_ratio.max()],\n",
    "           cmap='viridis',\n",
    "           norm=colors.LogNorm(vmin=np.nanmin(mm_no_ecc_phend[mm_no_ecc_phend > 0]),  # avoid log(0)\n",
    "                               vmax=np.nanmax(mm_no_ecc_phend)))\n",
    "plt.colorbar(label=\"Mismatch\")\n",
    "plt.xlabel(r\"Total Mass $(M_\\odot)$\")\n",
    "plt.ylabel(\"q\")\n",
    "# plt.title(\"Mismatch Heatmap: IMRPhenomD Eccentric vs Circular\")\n",
    "plt.tight_layout()\n",
    "plt.show()"
   ]
  },
  {
   "cell_type": "markdown",
   "id": "5d9616c9",
   "metadata": {},
   "source": [
    "## Inspecting individual waveforms\n",
    "\n",
    "BIG ISSUE IS THAT ORIGINAL INTERPOLATED AND I DO NOT INTERPOLATE THE ORIGINAL WAVEFORM, THIS CAUSES INFS AND NANS BUT IF HANDLED CORRECTLY IT KIND OF WORKS WITH OTHER DRAWBACKS."
   ]
  },
  {
   "cell_type": "markdown",
   "id": "0f453183",
   "metadata": {},
   "source": [
    "### Setting expectations"
   ]
  },
  {
   "cell_type": "markdown",
   "id": "802b283d",
   "metadata": {},
   "source": [
    "## Mismatch heatmaps"
   ]
  },
  {
   "cell_type": "code",
   "execution_count": 3,
   "id": "747516e0",
   "metadata": {},
   "outputs": [],
   "source": [
    "# Match self first here as a test"
   ]
  },
  {
   "cell_type": "markdown",
   "id": "266256ff",
   "metadata": {},
   "source": [
    "### Setting expectations"
   ]
  },
  {
   "cell_type": "markdown",
   "id": "b7b53222",
   "metadata": {},
   "source": [
    "## Conclusions"
   ]
  }
 ],
 "metadata": {
  "kernelspec": {
   "display_name": "pyrex",
   "language": "python",
   "name": "python3"
  },
  "language_info": {
   "codemirror_mode": {
    "name": "ipython",
    "version": 3
   },
   "file_extension": ".py",
   "mimetype": "text/x-python",
   "name": "python",
   "nbconvert_exporter": "python",
   "pygments_lexer": "ipython3",
   "version": "3.12.11"
  }
 },
 "nbformat": 4,
 "nbformat_minor": 5
}
